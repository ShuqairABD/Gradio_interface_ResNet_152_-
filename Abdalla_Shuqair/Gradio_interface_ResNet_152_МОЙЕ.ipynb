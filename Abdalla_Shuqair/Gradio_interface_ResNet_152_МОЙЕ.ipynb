{
  "nbformat": 4,
  "nbformat_minor": 0,
  "metadata": {
    "colab": {
      "provenance": [],
      "gpuType": "T4",
      "mount_file_id": "1MW8ljyMHu4y3hrV82RfNPoq6AAOEs1aI",
      "authorship_tag": "ABX9TyOdOHDXi+vxMEE9Ci2jzp7C",
      "include_colab_link": true
    },
    "kernelspec": {
      "name": "python3",
      "display_name": "Python 3"
    },
    "language_info": {
      "name": "python"
    },
    "accelerator": "GPU"
  },
  "cells": [
    {
      "cell_type": "markdown",
      "metadata": {
        "id": "view-in-github",
        "colab_type": "text"
      },
      "source": [
        "<a href=\"https://colab.research.google.com/github/ShuqairABD/Gradio_interface_ResNet_152_-/blob/main/Abdalla_Shuqair/Gradio_interface_ResNet_152_%D0%9C%D0%9E%D0%99%D0%95.ipynb\" target=\"_parent\"><img src=\"https://colab.research.google.com/assets/colab-badge.svg\" alt=\"Open In Colab\"/></a>"
      ]
    },
    {
      "cell_type": "markdown",
      "source": [
        "## **start**"
      ],
      "metadata": {
        "id": "KykspPjM-YGZ"
      }
    },
    {
      "cell_type": "code",
      "execution_count": null,
      "metadata": {
        "collapsed": true,
        "id": "tJewLp0psmUD"
      },
      "outputs": [],
      "source": [
        "!pip install gradio\n"
      ]
    },
    {
      "cell_type": "code",
      "source": [
        "!pip install pydicom"
      ],
      "metadata": {
        "collapsed": true,
        "id": "_LO_FawBs90H"
      },
      "execution_count": null,
      "outputs": []
    },
    {
      "cell_type": "code",
      "source": [
        "import gradio as gr\n",
        "import torch\n",
        "from torchvision import models, transforms\n",
        "import torch.nn as nn\n",
        "import os\n",
        "import numpy as np\n",
        "import pydicom\n",
        "from PIL import Image\n",
        "\n",
        "import os\n",
        "import zipfile\n",
        "import tempfile"
      ],
      "metadata": {
        "id": "E6qC5aUdsxEa"
      },
      "execution_count": null,
      "outputs": []
    },
    {
      "cell_type": "markdown",
      "source": [
        "## **Gradio in folder**"
      ],
      "metadata": {
        "id": "dBgDDmyXC_5W"
      }
    },
    {
      "cell_type": "code",
      "source": [
        "\n",
        "device = torch.device(\"cuda\" if torch.cuda.is_available() else \"cpu\")\n",
        "\n",
        "# ResNet-152 with weights! (можно с весами)!!\n",
        "model = models.resnet152(weights=models.ResNet152_Weights.IMAGENET1K_V2)\n",
        "#model = models.resnet152(weights=None)\n",
        "\n",
        "num_ftrs = model.fc.in_features\n",
        "model.fc = nn.Sequential(\n",
        "    nn.Linear(num_ftrs, 128),\n",
        "    nn.ReLU(inplace=True),\n",
        "    nn.Linear(128, 1),\n",
        "    nn.Sigmoid()\n",
        ").to(device)\n",
        "\n",
        "model_path = '/content/drive/MyDrive/bouns_fine_tuned_resnet152.pth'\n",
        "model.load_state_dict(torch.load(model_path, map_location=device))\n",
        "model.to(device)\n",
        "model.eval()\n",
        "\n",
        "transform = transforms.Compose([\n",
        "    transforms.Resize((224, 224)),\n",
        "    transforms.ToTensor(),\n",
        "    transforms.Normalize(mean=[0.485, 0.456, 0.406], std=[0.229, 0.224, 0.225])\n",
        "])\n",
        "\n",
        "label_mapping = {0: 'Healthy', 1: 'UnHealthy'}\n",
        "\n",
        "def classify_zip(zip_file):\n",
        "    results = []\n",
        "    with tempfile.TemporaryDirectory() as tmpdirname:\n",
        "        # ZIP\n",
        "        with zipfile.ZipFile(zip_file.name, 'r') as zip_ref:\n",
        "            zip_ref.extractall(tmpdirname)\n",
        "\n",
        "        for root, _, files in os.walk(tmpdirname):\n",
        "            for filename in files:\n",
        "                if filename.lower().endswith('.dcm'):\n",
        "                    dicom_image = pydicom.dcmread(os.path.join(root, filename))\n",
        "                    image_array = dicom_image.pixel_array\n",
        "\n",
        "                    if image_array.max() > 1:\n",
        "                        image_array = (image_array / image_array.max() * 255).astype(np.uint8)\n",
        "                    image = Image.fromarray(image_array).convert('RGB')\n",
        "\n",
        "                    input_image = transform(image).unsqueeze(0).to(device)\n",
        "\n",
        "\n",
        "                    with torch.no_grad():\n",
        "                        output = model(input_image)\n",
        "                    predicted = (output > 0.5).float()\n",
        "                    predicted_label = predicted.item()\n",
        "                    predicted_class_name = label_mapping[int(predicted_label)]\n",
        "\n",
        "                    # результат ------>> list\n",
        "                    results.append((image, f\"{filename}: {predicted_class_name}\"))\n",
        "\n",
        "    return results\n",
        "\n",
        "# Gradio\n",
        "iface = gr.Interface(\n",
        "    fn=classify_zip,\n",
        "    inputs=gr.components.File(label=\"Загрузить zip-файл DICOM\"),\n",
        "    outputs=gr.components.Gallery(label=\"Предсказанные классы\"),\n",
        "    title=\"Классификация патология / норма с помощью ResNet-152\",\n",
        "    description=\"Загрузить ZIP-файл, содержащий файлы DICOM, чтобы классифицировать их как норма или патология\"\n",
        ")\n",
        "\n",
        "iface.launch()\n"
      ],
      "metadata": {
        "colab": {
          "base_uri": "https://localhost:8080/",
          "height": 723
        },
        "id": "NX0YtfnFhbZf",
        "outputId": "e7f4649e-73a4-4d2d-9072-4289f584195e"
      },
      "execution_count": null,
      "outputs": [
        {
          "output_type": "stream",
          "name": "stderr",
          "text": [
            "Downloading: \"https://download.pytorch.org/models/resnet152-f82ba261.pth\" to /root/.cache/torch/hub/checkpoints/resnet152-f82ba261.pth\n",
            "100%|██████████| 230M/230M [00:01<00:00, 132MB/s]\n",
            "<ipython-input-4-4b29ffa35dc8>:15: FutureWarning: You are using `torch.load` with `weights_only=False` (the current default value), which uses the default pickle module implicitly. It is possible to construct malicious pickle data which will execute arbitrary code during unpickling (See https://github.com/pytorch/pytorch/blob/main/SECURITY.md#untrusted-models for more details). In a future release, the default value for `weights_only` will be flipped to `True`. This limits the functions that could be executed during unpickling. Arbitrary objects will no longer be allowed to be loaded via this mode unless they are explicitly allowlisted by the user via `torch.serialization.add_safe_globals`. We recommend you start setting `weights_only=True` for any use case where you don't have full control of the loaded file. Please open an issue on GitHub for any issues related to this experimental feature.\n",
            "  model.load_state_dict(torch.load(model_path, map_location=device))\n"
          ]
        },
        {
          "output_type": "stream",
          "name": "stdout",
          "text": [
            "Setting queue=True in a Colab notebook requires sharing enabled. Setting `share=True` (you can turn this off by setting `share=False` in `launch()` explicitly).\n",
            "\n",
            "Colab notebook detected. To show errors in colab notebook, set debug=True in launch()\n",
            "Running on public URL: https://1b82c762c1c0738810.gradio.live\n",
            "\n",
            "This share link expires in 72 hours. For free permanent hosting and GPU upgrades, run `gradio deploy` from Terminal to deploy to Spaces (https://huggingface.co/spaces)\n"
          ]
        },
        {
          "output_type": "display_data",
          "data": {
            "text/plain": [
              "<IPython.core.display.HTML object>"
            ],
            "text/html": [
              "<div><iframe src=\"https://1b82c762c1c0738810.gradio.live\" width=\"100%\" height=\"500\" allow=\"autoplay; camera; microphone; clipboard-read; clipboard-write;\" frameborder=\"0\" allowfullscreen></iframe></div>"
            ]
          },
          "metadata": {}
        },
        {
          "output_type": "execute_result",
          "data": {
            "text/plain": []
          },
          "metadata": {},
          "execution_count": 4
        }
      ]
    }
  ]
}